{
 "cells": [
  {
   "cell_type": "code",
   "execution_count": null,
   "metadata": {},
   "outputs": [],
   "source": [
    "import os\n",
    "import urllib.request\n",
    "\n",
    "\n",
    "__all__ = [\"download\"]\n",
    "\n",
    "\n",
    "def download_files(bucket_path, file_list, download_path):\n",
    "    \"\"\"\n",
    "    Provide path to s3 bucket, download a file list to download path\n",
    "    \"\"\"\n",
    "    if not os.path.isdir(download_path):\n",
    "        os.makedirs(download_path)\n",
    "    for f in file_list:\n",
    "        # check if file already exists\n",
    "        file_path = os.path.join(download_path, f)\n",
    "        if os.path.isfile(file_path):\n",
    "            print ('File \"%s\" already exists' %f)\n",
    "        else:\n",
    "            print ('Downloading \"%s\" ...' % f)\n",
    "            urllib.request.urlretrieve(bucket_path + f, file_path)\n",
    "            print ('Done')\n",
    "\n",
    "\n",
    "def download(file_list=[]):\n",
    "    \"\"\"\n",
    "    Downloads files from AWS S3 repository\n",
    "    Here are all avialble dataset from the repository\n",
    "    file_list=[\"yelp_academic_dataset_business.pickle\"\n",
    "               \"yelp_academic_dataset_review.pickle\",\n",
    "               \"yelp_academic_dataset_user.pickle\",\n",
    "               \"yelp_academic_dataset_checkin.pickle\",\n",
    "               \"yelp_academic_dataset_tip.pickle\"]\n",
    "    \"\"\"\n",
    "    if file_list == []:\n",
    "        print (\"Providiing empty file_list, no download...\")\n",
    "    else:\n",
    "        bucket_path = \"https://s3-us-west-2.amazonaws.com/science-of-science-bucket/yelp_academic_dataset/\"\n",
    "        current_path = os.path.dirname(os.path.abspath(\"/\"))\n",
    "        download_path = \"/Users/UID/BIGDATA/Yelp Analysis\"\n",
    "        download_files(bucket_path, file_list, download_path)\n"
   ]
  },
  {
   "cell_type": "code",
   "execution_count": null,
   "metadata": {},
   "outputs": [],
   "source": [
    "download(file_list=[\"yelp_academic_dataset_business.pickle\",\n",
    "                              \"yelp_academic_dataset_review.pickle\",\n",
    "                              \"yelp_academic_dataset_user.pickle\",\n",
    "                              \"yelp_academic_dataset_checkin.pickle\",\n",
    "                              \"yelp_academic_dataset_tip.pickle\"])"
   ]
  },
  {
   "cell_type": "code",
   "execution_count": null,
   "metadata": {},
   "outputs": [],
   "source": [
    "import pandas as pd\n",
    "review = pd.read_pickle('/Users/UID/BIGDATA/Yelp Analysis/yelp_academic_dataset_business.pickle')\n",
    "out = review.to_json(orient='records')[1:-1].replace('},{', '} {')"
   ]
  },
  {
   "cell_type": "code",
   "execution_count": null,
   "metadata": {},
   "outputs": [],
   "source": [
    "data = []\n",
    "for i in review.index:\n",
    "    d = {}\n",
    "    for j in review.columns:\n",
    "        d[j] = review[j][i]\n",
    "    data.append(d)\n",
    "len(data)"
   ]
  },
  {
   "cell_type": "code",
   "execution_count": null,
   "metadata": {},
   "outputs": [],
   "source": [
    "review.columns"
   ]
  },
  {
   "cell_type": "code",
   "execution_count": null,
   "metadata": {},
   "outputs": [],
   "source": [
    "from elasticsearch import Elasticsearch \n",
    "es = Elasticsearch()\n",
    "\n",
    "from tqdm import tqdm \n",
    "import json\n",
    "\n",
    "tables = ['business','checkin','photo','review','tip','user']\n",
    "for table in tqdm(tables):\n",
    "    data = []\n",
    "    _ = es.indices.create(index='yelp_'+table , ignore=400)\n",
    "    with open('/Users/UID/BIGDATA/Yelp Analysis/yelp_academic_dataset_business.pickle'.format(table), encoding='utf-8') as f:\n",
    "        i = 0\n",
    "        for line in f:\n",
    "            result=es.create(index='yelp_'+table,doc_type=table,id=i,body=json.loads(line))\n",
    "            i += 1\n",
    "            if i % 5000 == 0:\n",
    "                print(i, 'records have been uploaded')\n",
    "    print(table, 'data finished!!!')"
   ]
  }
 ],
 "metadata": {
  "kernelspec": {
   "display_name": "Python 3",
   "language": "python",
   "name": "python3"
  },
  "language_info": {
   "codemirror_mode": {
    "name": "ipython",
    "version": 3
   },
   "file_extension": ".py",
   "mimetype": "text/x-python",
   "name": "python",
   "nbconvert_exporter": "python",
   "pygments_lexer": "ipython3",
   "version": "3.6.5"
  }
 },
 "nbformat": 4,
 "nbformat_minor": 2
}
